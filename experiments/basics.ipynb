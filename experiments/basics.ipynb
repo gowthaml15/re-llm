{
 "cells": [
  {
   "cell_type": "code",
   "execution_count": 1,
   "metadata": {},
   "outputs": [],
   "source": [
    "from torch import nn\n",
    "import torch \n",
    "import math "
   ]
  },
  {
   "cell_type": "code",
   "execution_count": 2,
   "metadata": {},
   "outputs": [],
   "source": [
    "# Define the parameters\n",
    "vocab_size = 10  # Example vocabulary size\n",
    "embedding_dim = 5  # Dimension of the embedding vectors\n",
    "\n",
    "# Create the embedding layer\n",
    "embedding = nn.Embedding(vocab_size, embedding_dim)\n",
    "\n",
    "# Example input: indices of words/tokens\n",
    "input_indices = torch.tensor([1, 2, 4, 8])\n",
    "\n",
    "# Get the embeddings for the input indices\n",
    "embedded = embedding(input_indices)"
   ]
  },
  {
   "cell_type": "code",
   "execution_count": 3,
   "metadata": {},
   "outputs": [
    {
     "data": {
      "text/plain": [
       "tensor([[ 1.6615,  0.9257,  0.2569, -4.2235, -0.0430],\n",
       "        [ 1.7068,  2.2455,  0.8781, -0.8528,  3.3354],\n",
       "        [ 2.0813, -0.3093, -0.1635,  3.5547, -2.1924],\n",
       "        [-2.9115, -0.8228, -1.9628,  1.8962,  0.9515]], grad_fn=<MulBackward0>)"
      ]
     },
     "execution_count": 3,
     "metadata": {},
     "output_type": "execute_result"
    }
   ],
   "source": [
    "embedded*math.sqrt(embedding_dim)"
   ]
  },
  {
   "cell_type": "markdown",
   "metadata": {},
   "source": [
    "#### Positional Encoding implementation "
   ]
  },
  {
   "cell_type": "code",
   "execution_count": 2,
   "metadata": {},
   "outputs": [],
   "source": [
    "import numpy as np \n",
    "import matplotlib.pyplot as plt "
   ]
  },
  {
   "cell_type": "code",
   "execution_count": 13,
   "metadata": {},
   "outputs": [],
   "source": [
    "def getPositionEncoding(seq_len, d, n=10000):\n",
    "    P = np.zeros((seq_len, d))\n",
    "    for k in range(seq_len):\n",
    "        for i in np.arange(int(d/2)):\n",
    "            denominator = np.power(n, 2*i/d)\n",
    "            P[k, 2*i] = np.sin(k/denominator)\n",
    "            P[k, 2*i+1] = np.cos(k/denominator)\n",
    "    return P\n",
    " \n",
    "P = getPositionEncoding(seq_len=10, d=4, n=100)\n",
    "# print(P)"
   ]
  },
  {
   "cell_type": "code",
   "execution_count": 31,
   "metadata": {},
   "outputs": [
    {
     "name": "stdout",
     "output_type": "stream",
     "text": [
      "torch.Size([10])\n",
      "torch.Size([10, 1])\n"
     ]
    }
   ],
   "source": [
    "x = torch.randn((10,512))\n",
    "pe = torch.zeros(10,512)\n",
    "position = torch.arange(0,10,dtype=float)\n",
    "print(position.shape)\n",
    "position = position.unsqueeze(1)\n",
    "print(position.shape)"
   ]
  },
  {
   "cell_type": "code",
   "execution_count": 32,
   "metadata": {},
   "outputs": [],
   "source": [
    "div_term = torch.exp(torch.arange(0,512,2).float()*(-math.log(10000.0)/512))\n",
    "pe[:,0::2] = torch.sin(position*div_term)"
   ]
  },
  {
   "cell_type": "code",
   "execution_count": 2,
   "metadata": {},
   "outputs": [],
   "source": [
    "x = torch.randn(1,10,512)"
   ]
  },
  {
   "cell_type": "code",
   "execution_count": 3,
   "metadata": {},
   "outputs": [
    {
     "data": {
      "text/plain": [
       "64"
      ]
     },
     "execution_count": 3,
     "metadata": {},
     "output_type": "execute_result"
    }
   ],
   "source": [
    "512//8"
   ]
  },
  {
   "cell_type": "code",
   "execution_count": 4,
   "metadata": {},
   "outputs": [],
   "source": [
    "x = x.view(x.shape[0],x.shape[1],8,64)"
   ]
  },
  {
   "cell_type": "code",
   "execution_count": 6,
   "metadata": {},
   "outputs": [
    {
     "data": {
      "text/plain": [
       "torch.Size([1, 10, 8, 64])"
      ]
     },
     "execution_count": 6,
     "metadata": {},
     "output_type": "execute_result"
    }
   ],
   "source": [
    "x.shape"
   ]
  },
  {
   "cell_type": "code",
   "execution_count": 25,
   "metadata": {},
   "outputs": [
    {
     "name": "stdout",
     "output_type": "stream",
     "text": [
      "Original Tensor:\n",
      "tensor([1., 2., 3., 4., 5.])\n",
      "\n",
      "Mask Tensor:\n",
      "tensor([False,  True, False,  True, False])\n",
      "\n",
      "Result Tensor after masked_fill:\n",
      "tensor([1., -inf, 3., -inf, 5.])\n"
     ]
    }
   ],
   "source": [
    "# Original tensor\n",
    "tensor = torch.tensor([1, 2, 3, 4, 5], dtype=torch.float32)\n",
    "\n",
    "# Mask tensor (boolean mask)\n",
    "mask = torch.tensor([False, True, False, True, False])\n",
    "\n",
    "# Value to fill where mask is True\n",
    "value = float('-inf')\n",
    "\n",
    "# Apply masked_fill\n",
    "result = tensor.masked_fill(mask, value)\n",
    "\n",
    "print(\"Original Tensor:\")\n",
    "print(tensor)\n",
    "print(\"\\nMask Tensor:\")\n",
    "print(mask)\n",
    "print(\"\\nResult Tensor after masked_fill:\")\n",
    "print(result)"
   ]
  },
  {
   "cell_type": "code",
   "execution_count": 28,
   "metadata": {},
   "outputs": [
    {
     "data": {
      "text/plain": [
       "(tensor([[[0.0117, 0.0317, 0.0861, 0.2341, 0.6364]]]), torch.Size([1, 1, 5]))"
      ]
     },
     "execution_count": 28,
     "metadata": {},
     "output_type": "execute_result"
    }
   ],
   "source": [
    "tensor = tensor.unsqueeze(0)\n",
    "tensor.softmax(dim=-1), tensor.shape"
   ]
  },
  {
   "cell_type": "code",
   "execution_count": 30,
   "metadata": {},
   "outputs": [
    {
     "data": {
      "text/plain": [
       "1e-05"
      ]
     },
     "execution_count": 30,
     "metadata": {},
     "output_type": "execute_result"
    }
   ],
   "source": [
    "10**-5"
   ]
  },
  {
   "cell_type": "code",
   "execution_count": null,
   "metadata": {},
   "outputs": [],
   "source": []
  }
 ],
 "metadata": {
  "kernelspec": {
   "display_name": "re-llm",
   "language": "python",
   "name": "python3"
  },
  "language_info": {
   "codemirror_mode": {
    "name": "ipython",
    "version": 3
   },
   "file_extension": ".py",
   "mimetype": "text/x-python",
   "name": "python",
   "nbconvert_exporter": "python",
   "pygments_lexer": "ipython3",
   "version": "3.9.0"
  }
 },
 "nbformat": 4,
 "nbformat_minor": 2
}
